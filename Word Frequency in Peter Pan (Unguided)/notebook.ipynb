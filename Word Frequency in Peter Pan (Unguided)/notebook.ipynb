{
 "cells": [
  {
   "cell_type": "markdown",
   "metadata": {
    "dc": {
     "key": "3"
    },
    "deletable": false,
    "editable": false,
    "run_control": {
     "frozen": true
    },
    "tags": [
     "context"
    ]
   },
   "source": [
    "## # Introduction\n",
    "<p><img src=\"https://assets.datacamp.com/production/project_1010/img/book_cover.jpg\" alt=\"The book cover of Peter and Wendy\" style=\"width:183;height:253px;\"></p>\n",
    "<h3 id=\"flyawaywithpeterpan\">Fly away with Peter Pan!</h3>\n",
    "<p>Peter Pan has been the companion of many children, and went a long way, starting as a Christmas play and ending up as a Disney classic. Did you know that although the play was titled \"Peter Pan, Or The Boy Who Wouldn't Grow Up\", J. M. Barrie's novel was actually titled \"Peter and Wendy\"? </p>\n",
    "<p>You're going to explore and analyze Peter Pan's text to answer the question in the instruction pane below. You are working with the text version available here at <a href=\"https://www.gutenberg.org/files/16/16-h/16-h.htm\">Project Gutenberg</a>. Feel free to add as many cells as necessary. Finally, remember that you are only tested on your answer, not on the methods you use to arrive at the answer!</p>\n",
    "<p><strong>Note:</strong> If you haven't completed a DataCamp project before you should check out the <a href=\"https://projects.datacamp.com/projects/33\">Intro to Projects</a> first to learn about the interface. <a href=\"https://www.datacamp.com/courses/intermediate-importing-data-in-python\">Intermediate Importing Data in Python</a> and <a href=\"https://www.datacamp.com/courses/introduction-to-natural-language-processing-in-python\">Introduction to Natural Language Processing in Python</a> teach the skills required to complete this project. Should you decide to use them, English stopwords have been downloaded from <code>nltk</code> and are available for you in your environment.</p>"
   ]
  },
  {
   "cell_type": "code",
   "execution_count": 18,
   "metadata": {
    "dc": {
     "key": "3"
    },
    "tags": [
     "sample_code"
    ]
   },
   "outputs": [],
   "source": [
    "# Use this cell to begin your analysis, and add as many as you would like!\n",
    "import requests\n",
    "import nltk\n",
    "from bs4 import BeautifulSoup\n",
    "from collections import Counter"
   ]
  },
  {
   "cell_type": "code",
   "execution_count": 19,
   "metadata": {
    "dc": {
     "key": "3"
    }
   },
   "outputs": [
    {
     "name": "stdout",
     "output_type": "stream",
     "text": [
      "<Response [200]>\n",
      "﻿<?xml version=\"1.0\" encoding=\"utf-8\"?>\r\n",
      "\r\n",
      "<!DOCTYPE html\r\n",
      "   PUBLIC \"-//W3C//DTD XHTML 1.0 Strict//EN\"\r\n",
      "   \"http://www.w3.org/TR/xhtml1/DTD/xhtml1-strict.dtd\" >\r\n",
      "\r\n",
      "<html xmlns=\"http://www.w3.org/1999/xhtml\" lang=\"en\">\r\n",
      "  <head>\r\n",
      "    <title>\r\n",
      "      Peter Pan, by J. M. Barrie\r\n",
      "    </title>\r\n",
      "    <style type=\"text/css\" xml:space=\"preserve\">\r\n",
      "\r\n",
      "    body { margin:5%; background:#faebd0; text-align:justify}\r\n",
      "    P { text-indent: 1em; margin-top: .25em; margin-bottom: .25em; }\r\n",
      "    H1,H2,H3,H4,H5,H6 { text-align: center; margin-left: 15%; margin-right: 15%; }\r\n",
      "    hr  { width: 50%; text-align: center;}\r\n",
      "    .foot { margin-left: 20%; margin-right: 20%; text-align: justify; text-indent: -3em; font-size: 90%; }\r\n",
      "    blockquote {font-size: 97%; font-style: italic; margin-left: 10%; margin-right: 10%;}\r\n",
      "    .mynote    {background-color: #DDE; color: #000; padding: .5em; margin-left: 10%; margin-right: 10%; font-family: sans-serif; font-size: 95%;}\r\n",
      "    .toc       { margin-left: 10%; margin-bottom: .75em;}\r\n",
      "    .toc2      { margin-left: 20%;}\r\n",
      "    div.fig { display:block; margin:0 auto; text-align:center; }\r\n",
      "    .figleft   {float: left; margin-left: 0%; margin-right: 1%;}\r\n",
      "    .figright  {float: right; margin-right: 0%; margin-left: 1%;}\r\n",
      "    pre     { font-style: italic; font-size: 90%; margin-left: 10%;}\r\n",
      "\r\n",
      "</style>\r\n",
      "  </head>\r\n",
      "  <body>\r\n",
      "<pre xml:space=\"preserve\">\r\n",
      "\r\n",
      "The Project Gutenberg EBook of Peter Pan, by James M. Barrie\r\n",
      "\r\n",
      "This eBook is for the use of anyone anywhere at no cost and with\r\n",
      "almost no restrictions whatsoever.  You may copy it, give it away or\r\n",
      "re-use it under the terms of the Project Gutenberg License included\r\n",
      "with this eBook or online at www.gutenberg.org\r\n",
      "\r\n",
      "** This is a COPYRIGHTED Project Gutenberg eBook, Details Below **\r\n",
      "**     Please follow the copyright guidelines in this file.     **\r\n",
      "\r\n",
      "Title: Peter Pan\r\n",
      "       Peter Pan and Wendy\r\n",
      "\r\n",
      "Author: James M. Barrie\r\n",
      "\r\n",
      "Release Date: June 25, 2008 [EBook #16]\r\n",
      "Last Updated: March 10, 2018\r\n",
      "\r\n",
      "Language: Englis\n"
     ]
    }
   ],
   "source": [
    "r = requests.get(\"https://www.gutenberg.org/files/16/16-h/16-h.htm\")\n",
    "\n",
    "print(r)\n",
    "\n",
    "r.status_code\n",
    "\n",
    "\n",
    "r.encoding = \"utf-8\"\n",
    "\n",
    "html = r.text\n",
    "\n",
    "print(html[:2000])"
   ]
  },
  {
   "cell_type": "code",
   "execution_count": 20,
   "metadata": {
    "dc": {
     "key": "3"
    }
   },
   "outputs": [
    {
     "name": "stdout",
     "output_type": "stream",
     "text": [
      "﻿\n",
      "\n",
      "\n",
      "\n",
      "\r\n",
      "      Peter Pan, by J. M. Barrie\r\n",
      "    \n",
      "\r\n",
      "\r\n",
      "    body { margin:5%; background:#faebd0; text-align:justify}\r\n",
      "    P { text-indent: 1em; margin-top: .25em; margin-bottom: .25em; }\r\n",
      "    H1,H2,H3,H4,H5,H6 { text-align: center; margin-left: 15%; margin-right: 15%; }\r\n",
      "    hr  { width: 50%; text-align: center;}\r\n",
      "    .foot { margin-left: 20%; margin-right: 20%; text-align: justify; text-indent: -3em; font-size: 90%; }\r\n",
      "    blockquote {font-size: 97%; font-style: italic; margin-left: 10%; margin-right: 10%;}\r\n",
      "    .mynote    {background-color: #DDE; color: #000; padding: .5em; margin-left: 10%; margin-right: 10%; font-family: sans-serif; font-size: 95%;}\r\n",
      "    .toc       { margin-left: 10%; margin-bottom: .75em;}\r\n",
      "    .toc2      { margin-left: 20%;}\r\n",
      "    div.fig { display:block; margin:0 auto; text-align:center; }\r\n",
      "    .figleft   {float: left; margin-left: 0%; margin-right: 1%;}\r\n",
      "    .figright  {float: right; margin-right: 0%; margin-left: 1%;}\r\n",
      "    pre     { font-style: italic; font-size: 90%; margin-left: 10%;}\r\n",
      "\r\n",
      "\n",
      "\n",
      "\n",
      "\r\n",
      "\r\n",
      "The Project Gutenberg EBook of Peter Pan, by James M. Barrie\r\n",
      "\r\n",
      "This eBook is for the use of anyone anywhere at no cost and with\r\n",
      "almost no restrictions whatsoever.  You may copy it, give it away or\r\n",
      "re-use it under the terms of the Project Gutenberg License included\r\n",
      "with this eBook or online at www.gutenberg.org\r\n",
      "\r\n",
      "** This is a COPYRIGHTED Project Gutenberg eBook, Details Below **\r\n",
      "**     Please follow the copyright guidelines in this file.     **\r\n",
      "\r\n",
      "Title: Peter Pan\r\n",
      "       Peter Pan and Wendy\r\n",
      "\r\n",
      "Author: James M. Barrie\r\n",
      "\r\n",
      "Release Date: June 25, 2008 [EBook #16]\r\n",
      "Last Updated: March 10, 2018\r\n",
      "\r\n",
      "Language: English\r\n",
      "\r\n",
      "Character set encoding: UTF-8\r\n",
      "\r\n",
      "*** START OF THIS PROJECT GUTENBERG EBOOK PETER PAN ***\r\n",
      "\r\n",
      "\r\n",
      "\r\n",
      "Produced by David Widger\r\n",
      "\r\n",
      "\r\n",
      "\r\n",
      "\r\n",
      "\r\n",
      "\r\n",
      "\n",
      "\n",
      "\n",
      "\n",
      "\n",
      "PETER PAN\n",
      "\n",
      "\r\n",
      "      [PETER AND WENDY]\r\n",
      "    \n",
      "\n",
      "\n",
      "\n",
      "\r\n",
      "      By J. M. Barrie [James Matthew Barrie]\r\n",
      "    \n",
      "\n",
      " \n",
      "\n",
      "\r\n",
      "      A Millennium Fulcrum Edition  (c)1991 by Duncan Research\r\n",
      "    \n",
      "\n",
      " \n",
      "\n",
      "\n",
      "\n",
      " \n",
      "\n",
      "\n",
      "\n",
      "CONTENTS\n",
      "\n",
      "\n",
      "\n",
      "\n",
      "\n",
      " Cha\n"
     ]
    }
   ],
   "source": [
    "# beautiful soup converts html to unicode characters\n",
    "soup = BeautifulSoup(html)\n",
    "\n",
    "# get the text\n",
    "text = soup.text\n",
    "print(text[:2000])"
   ]
  },
  {
   "cell_type": "code",
   "execution_count": 21,
   "metadata": {
    "dc": {
     "key": "3"
    }
   },
   "outputs": [
    {
     "name": "stdout",
     "output_type": "stream",
     "text": [
      "['Peter', 'Pan', 'by', 'J', 'M', 'Barrie']\n"
     ]
    }
   ],
   "source": [
    "# get the words\n",
    "# first define the tokenizer method \\w to match on characters and integers + means characters and integers that makes up the word\n",
    "tokenizer = nltk.tokenize.RegexpTokenizer(\"\\w+\")\n",
    "\n",
    "# get list of words from tokenizer\n",
    "tokens = tokenizer.tokenize(text)\n",
    "\n",
    "print(tokens[:6])"
   ]
  },
  {
   "cell_type": "code",
   "execution_count": 22,
   "metadata": {
    "dc": {
     "key": "3"
    }
   },
   "outputs": [
    {
     "name": "stdout",
     "output_type": "stream",
     "text": [
      "['peter', 'pan', 'by', 'j', 'm', 'barrie']\n"
     ]
    }
   ],
   "source": [
    "# lowercase the tokens so that Peter and peter are the same\n",
    "words = [token.lower() for token in tokens]\n",
    "\n",
    "print(words[:6])"
   ]
  },
  {
   "cell_type": "code",
   "execution_count": 23,
   "metadata": {
    "dc": {
     "key": "3"
    }
   },
   "outputs": [
    {
     "name": "stdout",
     "output_type": "stream",
     "text": [
      "[nltk_data] Downloading package stopwords to /home/repl/nltk_data...\n",
      "[nltk_data]   Package stopwords is already up-to-date!\n",
      "['i', 'me', 'my', 'myself', 'we', 'our', 'ours', 'ourselves', 'you', \"you're\", \"you've\", \"you'll\", \"you'd\", 'your', 'yours', 'yourself', 'yourselves', 'he', 'him', 'his', 'himself', 'she', \"she's\", 'her', 'hers', 'herself', 'it', \"it's\", 'its', 'itself']\n"
     ]
    }
   ],
   "source": [
    "# get stopwords\n",
    "nltk.download('stopwords')\n",
    "stop_words = nltk.corpus.stopwords.words('english')\n",
    "\n",
    "print(stop_words[:30])"
   ]
  },
  {
   "cell_type": "code",
   "execution_count": 24,
   "metadata": {
    "dc": {
     "key": "3"
    }
   },
   "outputs": [
    {
     "name": "stdout",
     "output_type": "stream",
     "text": [
      "['peter', 'pan', 'j', 'barrie', 'body', 'margin']\n"
     ]
    }
   ],
   "source": [
    "# remove stopwords from the text before analysis\n",
    "words_clean = [word for word in words if word not in stop_words]\n",
    "\n",
    "print(words_clean[:6])"
   ]
  },
  {
   "cell_type": "code",
   "execution_count": 25,
   "metadata": {
    "dc": {
     "key": "3"
    }
   },
   "outputs": [
    {
     "name": "stdout",
     "output_type": "stream",
     "text": [
      "[('peter', 410), ('wendy', 362), ('said', 358), ('would', 219), ('one', 214), ('hook', 175), ('could', 142), ('cried', 136), ('john', 133), ('time', 126)]\n"
     ]
    }
   ],
   "source": [
    "# count words\n",
    "# counter is similar to a dict\n",
    "count = Counter(words_clean)\n",
    "\n",
    "top_ten = count.most_common(10)\n",
    "\n",
    "print(top_ten)"
   ]
  },
  {
   "cell_type": "code",
   "execution_count": 26,
   "metadata": {
    "collapsed": true,
    "dc": {
     "key": "3"
    }
   },
   "outputs": [],
   "source": [
    "# Among the top ten most common meaningful words in the text, \n",
    "# which ones are character names? \n",
    "protagonists = ['peter', 'wendy', 'hook', 'john']"
   ]
  },
  {
   "cell_type": "code",
   "execution_count": 27,
   "metadata": {
    "dc": {
     "key": "3"
    }
   },
   "outputs": [
    {
     "name": "stdout",
     "output_type": "stream",
     "text": [
      "   Chapter 1 PETER BREAKS THROUGH\r\n",
      "    \n",
      "\r\n",
      "      All children, except one, grow up. They soon know that they will grow up,\r\n",
      "      and the way Wendy knew was this. One day when she was two years old she\r\n",
      "      was playing in a garden, and she plucked another flower and ran with it to\r\n",
      "      her mother. I suppose she must have looked rather delightful, for Mrs.\r\n",
      "      Darling put her hand to her heart and cried, “Oh, why can't you remain\r\n",
      "      like this for ever!” This was all that passed between them on the subject,\r\n",
      "      but henceforth Wendy knew that she must grow up. You always know after you\r\n",
      "      are two. Two is the beginning of the end.\r\n",
      "    \n",
      "\r\n",
      "      Of course they lived at 14 [their house number on their street], and until\r\n",
      "      Wendy came her mother was the chief one. She was a lovely lady, with a\r\n",
      "      romantic mind and such a sweet mocking mouth. Her romantic mind was like\r\n",
      "      the tiny boxes, one within the other, that come from the puzzling East,\r\n",
      "      however many yo\n"
     ]
    }
   ],
   "source": [
    "# how to remove html and css\n",
    "trimmed_text = text[2583:]\n",
    "print(trimmed_text[:1000])"
   ]
  },
  {
   "cell_type": "code",
   "execution_count": 28,
   "metadata": {
    "dc": {
     "key": "3"
    }
   },
   "outputs": [
    {
     "data": {
      "text/plain": [
       "Text(0.5, 1.0, 'Peter Pan Most Common Words')"
      ]
     },
     "execution_count": 28,
     "metadata": {},
     "output_type": "execute_result"
    },
    {
     "data": {
      "image/png": "[encoded data removed]",
      "text/plain": [
       "<Figure size 1080x504 with 1 Axes>"
      ]
     },
     "metadata": {},
     "output_type": "display_data"
    }
   ],
   "source": [
    "# build quick visualization\n",
    "import matplotlib.pyplot as plt\n",
    "import seaborn as sns\n",
    "import pandas as pd\n",
    "\n",
    "df = pd.DataFrame(top_ten, columns=[\"words\", \"occurences\"])\n",
    "sns.set_style('darkgrid')\n",
    "plt.figure(figsize=(15,7))\n",
    "sns.barplot(x='words', y='occurences', data=df, saturation=0.9).set_title('Peter Pan Most Common Words')"
   ]
  }
 ],
 "metadata": {
  "kernelspec": {
   "display_name": "Python 3",
   "language": "python",
   "name": "python3"
  },
  "language_info": {
   "codemirror_mode": {
    "name": "ipython",
    "version": 3
   },
   "file_extension": ".py",
   "mimetype": "text/x-python",
   "name": "python",
   "nbconvert_exporter": "python",
   "pygments_lexer": "ipython3",
   "version": "3.7.7"
  }
 },
 "nbformat": 4,
 "nbformat_minor": 2
}
